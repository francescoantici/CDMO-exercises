{
 "cells": [
  {
   "cell_type": "markdown",
   "id": "841ea604",
   "metadata": {},
   "source": [
    "# Z3 SAT Constraints Encodings"
   ]
  },
  {
   "cell_type": "markdown",
   "id": "340744b9",
   "metadata": {},
   "source": [
    "In this notebook we are going to show several implementation in z3 of the cardinality constraints and show how they affect the efficiency of the solver. "
   ]
  },
  {
   "cell_type": "code",
   "execution_count": null,
   "id": "fa63df2b",
   "metadata": {},
   "outputs": [],
   "source": [
    "!pip3 install z3-solver"
   ]
  },
  {
   "cell_type": "code",
   "execution_count": null,
   "id": "7c342ee6",
   "metadata": {},
   "outputs": [],
   "source": [
    "from itertools import combinations\n",
    "from z3 import *\n",
    "from utils import *\n",
    "import math"
   ]
  },
  {
   "cell_type": "markdown",
   "id": "4887a040",
   "metadata": {},
   "source": [
    "## At most one encodings"
   ]
  },
  {
   "cell_type": "markdown",
   "id": "38d6ff2b",
   "metadata": {},
   "source": [
    "### Naive pairwise"
   ]
  },
  {
   "cell_type": "code",
   "execution_count": null,
   "id": "d4ae49b3",
   "metadata": {},
   "outputs": [],
   "source": [
    "def at_least_one_np(bool_vars):\n",
    "    return Or(bool_vars)\n",
    "\n",
    "def at_most_one_np(bool_vars, name = \"\"):\n",
    "    return And([Not(And(pair[0], pair[1])) for pair in combinations(bool_vars, 2)])\n",
    "\n",
    "def exactly_one_np(bool_vars, name = \"\"):\n",
    "    return And(at_least_one_np(bool_vars), at_most_one_np(bool_vars, name))"
   ]
  },
  {
   "cell_type": "markdown",
   "id": "b5789f37",
   "metadata": {},
   "source": [
    "### Sequential "
   ]
  },
  {
   "cell_type": "code",
   "execution_count": null,
   "id": "f117a5f2",
   "metadata": {},
   "outputs": [],
   "source": [
    "def at_least_one_seq(bool_vars):\n",
    "    pass\n",
    "\n",
    "def at_most_one_seq(bool_vars, name):\n",
    "    pass\n",
    "\n",
    "def exactly_one_seq(bool_vars, name):\n",
    "    pass"
   ]
  },
  {
   "cell_type": "markdown",
   "id": "f8c13489",
   "metadata": {},
   "source": [
    "### Bitwise"
   ]
  },
  {
   "cell_type": "code",
   "execution_count": null,
   "id": "6e82c140",
   "metadata": {},
   "outputs": [],
   "source": [
    "def toBinary(num, length = None):\n",
    "    num_bin = bin(num).split(\"b\")[-1]\n",
    "    if length:\n",
    "        return \"0\"*(length - len(num_bin)) + num_bin\n",
    "    return num_bin\n",
    "    \n",
    "def at_least_one_bw(bool_vars):\n",
    "    pass\n",
    "\n",
    "def at_most_one_bw(bool_vars, name):\n",
    "    pass\n",
    "\n",
    "def exactly_one_bw(bool_vars, name):\n",
    "    pass"
   ]
  },
  {
   "cell_type": "markdown",
   "id": "681c7980",
   "metadata": {},
   "source": [
    "### Heule "
   ]
  },
  {
   "cell_type": "code",
   "execution_count": null,
   "id": "fadfa643",
   "metadata": {},
   "outputs": [],
   "source": [
    "def at_least_one_he(bool_vars):\n",
    "    pass\n",
    "\n",
    "def at_most_one_he(bool_vars, name):\n",
    "    pass\n",
    "\n",
    "def exactly_one_he(bool_vars, name):\n",
    "    pass"
   ]
  },
  {
   "cell_type": "markdown",
   "id": "104213f2",
   "metadata": {},
   "source": [
    "## Examples"
   ]
  },
  {
   "cell_type": "markdown",
   "id": "c8fbcfd0",
   "metadata": {},
   "source": [
    "### N-queens"
   ]
  },
  {
   "cell_type": "code",
   "execution_count": null,
   "id": "e0b0db41",
   "metadata": {},
   "outputs": [],
   "source": [
    "def nqueens_sat(n):\n",
    "    # Create all the variables\n",
    "    p = [[Bool(f\"x_{i}_{j}\") for j in range(n)] for i in range(n)]\n",
    "\n",
    "    # Create the solver instance\n",
    "    s = Solver()\n",
    "\n",
    "    # At least one on each row and column\n",
    "    for i in range(n):\n",
    "        s.add(at_least_one(p[i]))\n",
    "        s.add(at_least_one([p[j][i] for j in range(n)]))\n",
    "\n",
    "    # At most one on each row and column\n",
    "    for i in range(n):\n",
    "        col_i = []\n",
    "        for j in range(n):\n",
    "            col_i += [p[j][i]]\n",
    "        s.add(at_most_one(p[i], f\"row_{i}\"))\n",
    "        s.add(at_most_one(col_i, f\"col_{i}\"))\n",
    "\n",
    "    # Add the diagonal constraints\n",
    "    for i in range(n - 1):\n",
    "        diag_ru = []\n",
    "        diag_lu = []\n",
    "        diag_rl = []\n",
    "        diag_ll = []\n",
    "        for j in range(n - i):\n",
    "            diag_ru += [p[i + j][j]]\n",
    "            diag_lu += [p[n - 1 - (i + j)][j]]\n",
    "            diag_rl += [p[i + j][n - 1 - j]]\n",
    "            diag_ll += [p[n - 1 - (i + j)][n - 1 - j]]\n",
    "        s.add(at_most_one(diag_ru, f\"diag_ru_{i}\"))\n",
    "        s.add(at_most_one(diag_lu, f\"diag_lu_{i}\"))\n",
    "        s.add(at_most_one(diag_rl, f\"diag_rl_{i}\"))\n",
    "        s.add(at_most_one(diag_ll, f\"diag_ll_{i}\"))\n",
    "\n",
    "    s.check()\n",
    "\n",
    "    m = s.model()\n",
    "    return [(i, j) for i in range(n) for j in range(n) if m.evaluate(p[i][j])]"
   ]
  },
  {
   "cell_type": "code",
   "execution_count": null,
   "id": "9c94af13",
   "metadata": {},
   "outputs": [],
   "source": [
    "%%time\n",
    "at_most_one = at_most_one_np\n",
    "at_least_one = at_least_one_np \n",
    "exactly_one = exactly_one_np\n",
    "display_nqueens(nqueens_sat(64))"
   ]
  },
  {
   "cell_type": "code",
   "execution_count": null,
   "id": "526a5d17",
   "metadata": {},
   "outputs": [],
   "source": [
    "%%time\n",
    "at_most_one = at_most_one_seq\n",
    "at_least_one = at_least_one_seq\n",
    "exactly_one = exactly_one_seq\n",
    "display_nqueens(nqueens_sat(64))"
   ]
  },
  {
   "cell_type": "code",
   "execution_count": null,
   "id": "b35d11d8",
   "metadata": {},
   "outputs": [],
   "source": [
    "%%time\n",
    "at_most_one = at_most_one_bw\n",
    "at_least_one = at_least_one_bw\n",
    "exactly_one = exactly_one_bw\n",
    "display_nqueens(nqueens_sat(64))"
   ]
  },
  {
   "cell_type": "code",
   "execution_count": null,
   "id": "f6578bb6",
   "metadata": {},
   "outputs": [],
   "source": [
    "%%time\n",
    "at_most_one = at_most_one_he\n",
    "at_least_one = at_least_one_he\n",
    "exactly_one = exactly_one_he\n",
    "display_nqueens(nqueens_sat(64))"
   ]
  },
  {
   "cell_type": "markdown",
   "id": "84146c86",
   "metadata": {},
   "source": [
    "### Sudoku"
   ]
  },
  {
   "cell_type": "code",
   "execution_count": null,
   "id": "742a29bd",
   "metadata": {},
   "outputs": [],
   "source": [
    "# Sudoku instances, '0's correspond to empty cells\n",
    "\n",
    "instance1 = ((0, 0, 0, 0, 9, 4, 0, 3, 0),\n",
    "             (0, 0, 0, 5, 1, 0, 0, 0, 7),\n",
    "             (0, 8, 9, 0, 0, 0, 0, 4, 0),\n",
    "             (0, 0, 0, 0, 0, 0, 2, 0, 8),\n",
    "             (0, 6, 0, 2, 0, 1, 0, 5, 0),\n",
    "             (1, 0, 2, 0, 0, 0, 0, 0, 0),\n",
    "             (0, 7, 0, 0, 0, 0, 5, 2, 0),\n",
    "             (9, 0, 0, 0, 6, 5, 0, 0, 0),\n",
    "             (0, 4, 0, 9, 7, 0, 0, 0, 0))\n",
    "\n",
    "instance2 = ((0, 0, 0, 0, 9, 0, 1, 0, 0),\n",
    "             (2, 8, 0, 0, 0, 5, 0, 0, 0),\n",
    "             (7, 0, 0, 0, 0, 6, 4, 0, 0),\n",
    "             (8, 0, 5, 0, 0, 3, 0, 0, 6),\n",
    "             (0, 0, 1, 0, 0, 4, 0, 0, 0),\n",
    "             (0, 7, 0, 2, 0, 0, 0, 0, 0),\n",
    "             (3, 0, 0, 0, 0, 1, 0, 8, 0),\n",
    "             (0, 0, 0, 0, 0, 0, 0, 5, 0),\n",
    "             (0, 9, 0, 0, 0, 0, 0, 7, 0))\n",
    "\n",
    "instance3 = ((0, 7, 0, 0, 0, 0, 0, 4, 9),\n",
    "             (0, 0, 0, 4, 0, 0, 0, 0, 0),\n",
    "             (4, 0, 3, 5, 0, 7, 0, 0, 8),\n",
    "             (0, 0, 7, 2, 5, 0, 4, 0, 0),\n",
    "             (0, 0, 0, 0, 0, 0, 8, 0, 0),\n",
    "             (0, 0, 4, 0, 3, 0, 5, 9, 2),\n",
    "             (6, 1, 8, 0, 0, 0, 0, 0, 5),\n",
    "             (0, 9, 0, 1, 0, 0, 0, 3, 0),\n",
    "             (0, 0, 5, 0, 0, 0, 0, 0, 7))\n",
    "\n",
    "instance4 = ((0, 0, 0, 0, 0, 6, 0, 0, 0),\n",
    "             (0, 5, 9, 0, 0, 0, 0, 0, 8),\n",
    "             (2, 0, 0, 0, 0, 8, 0, 0, 0),\n",
    "             (0, 4, 5, 0, 0, 0, 0, 0, 0),\n",
    "             (0, 0, 3, 0, 0, 0, 0, 0, 0),\n",
    "             (0, 0, 6, 0, 0, 3, 0, 5, 4),\n",
    "             (0, 0, 0, 3, 2, 5, 0, 0, 6),\n",
    "             (0, 0, 0, 0, 0, 0, 0, 0, 0),\n",
    "             (0, 0, 0, 0, 0, 0, 0, 0, 0))"
   ]
  },
  {
   "cell_type": "code",
   "execution_count": null,
   "id": "3fd0acb0",
   "metadata": {},
   "outputs": [],
   "source": [
    "def sudoku_sat(instance):\n",
    "    # All the variables we need: for each cell, nine variables that determine which digit must be assigned.\n",
    "    v = [[[Bool(f\"v_{i}_{j}_{k}\") for k in range(9)] for j in range(9)] for i in range(9)]\n",
    "\n",
    "    s = Solver()\n",
    "\n",
    "    # A cell has only one value\n",
    "    for i in range(9):\n",
    "        for j in range(9):\n",
    "            s.add(exactly_one(v[i][j], f\"valid_cell_{i}_{j}\"))\n",
    "\n",
    "    # Each value is used only once in a row\n",
    "    for j in range(9):\n",
    "        for k in range(9):\n",
    "            s.add(exactly_one([v[i][j][k] for i in range(9)], f\"valid_row_{j}_{k}\"))\n",
    "\n",
    "    # Each value used exactly once in each column\n",
    "    for i in range(9):\n",
    "        for k in range(9):\n",
    "            s.add(exactly_one([v[i][j][k] for j in range(9)], f\"valid_column_{i}_{k}\"))\n",
    "\n",
    "    # Each value used exactly once in each 3x3 grid.\n",
    "    for ii in range(3):\n",
    "        for jj in range(3):\n",
    "            for k in range(9):\n",
    "                grid_cells = [v[3 * ii + a][3 * jj + b][k] for a in range(3) for b in range(3)]\n",
    "                s.add(exactly_one(grid_cells, f\"valid_grid_{ii}_{jj}_{k}\"))\n",
    "\n",
    "    # Some numbers are already available\n",
    "    for i in range(9):\n",
    "        for j in range(9):\n",
    "            if instance[i][j] > 0:\n",
    "                s.add(v[i][j][instance[i][j] - 1])\n",
    "\n",
    "    if s.check() == sat:\n",
    "        m = s.model()\n",
    "        sol = []\n",
    "        for i in range(9):\n",
    "            sol.append([])\n",
    "            for j in range(9):\n",
    "                for k in range(9):\n",
    "                    if m.evaluate(v[i][j][k]):\n",
    "                        sol[i].append(k+1)\n",
    "        return sol\n",
    "    else:\n",
    "        print(\"Failed to solve\")"
   ]
  },
  {
   "cell_type": "code",
   "execution_count": null,
   "id": "486e7361",
   "metadata": {},
   "outputs": [],
   "source": [
    "# Select the instance you want to solve\n",
    "instance = instance4\n",
    "display_sudoku(instance)"
   ]
  },
  {
   "cell_type": "code",
   "execution_count": null,
   "id": "f8930f73",
   "metadata": {},
   "outputs": [],
   "source": [
    "%%time\n",
    "at_most_one = at_most_one_np\n",
    "at_least_one = at_least_one_np \n",
    "exactly_one = exactly_one_np\n",
    "display_sudoku(sudoku_sat(instance))"
   ]
  },
  {
   "cell_type": "code",
   "execution_count": null,
   "id": "6e5a62d4",
   "metadata": {},
   "outputs": [],
   "source": [
    "%%time\n",
    "at_most_one = at_most_one_seq\n",
    "at_least_one = at_least_one_seq \n",
    "exactly_one = exactly_one_seq\n",
    "display_sudoku(sudoku_sat(instance))"
   ]
  },
  {
   "cell_type": "code",
   "execution_count": null,
   "id": "b5242e82",
   "metadata": {},
   "outputs": [],
   "source": [
    "%%time\n",
    "at_most_one = at_most_one_bw\n",
    "at_least_one = at_least_one_bw\n",
    "exactly_one = exactly_one_bw\n",
    "display_sudoku(sudoku_sat(instance))"
   ]
  },
  {
   "cell_type": "code",
   "execution_count": null,
   "id": "ef9b13c2",
   "metadata": {},
   "outputs": [],
   "source": [
    "%%time\n",
    "at_most_one = at_most_one_he\n",
    "at_least_one = at_least_one_he\n",
    "exactly_one = exactly_one_he\n",
    "display_sudoku(sudoku_sat(instance))"
   ]
  },
  {
   "cell_type": "markdown",
   "id": "0d6ef0a8",
   "metadata": {},
   "source": [
    "## At most k encodings"
   ]
  },
  {
   "cell_type": "markdown",
   "id": "cafd35e8",
   "metadata": {},
   "source": [
    "### Naive pairwise"
   ]
  },
  {
   "cell_type": "code",
   "execution_count": null,
   "id": "25ada565",
   "metadata": {},
   "outputs": [],
   "source": [
    "def at_least_k_np(bool_vars, k, name = \"\"):\n",
    "    pass\n",
    "\n",
    "def at_most_k_np(bool_vars, k, name = \"\"):\n",
    "    pass\n",
    "\n",
    "def exactly_k_np(bool_vars, k, name = \"\"):\n",
    "    pass"
   ]
  },
  {
   "cell_type": "markdown",
   "id": "57c1b557",
   "metadata": {},
   "source": [
    "### Sequential"
   ]
  },
  {
   "cell_type": "code",
   "execution_count": null,
   "id": "36b41368",
   "metadata": {},
   "outputs": [],
   "source": [
    "def at_least_k_seq(bool_vars, k, name):\n",
    "    pass\n",
    "\n",
    "def at_most_k_seq(bool_vars, k, name):\n",
    "    pass\n",
    "\n",
    "def exactly_k_seq(bool_vars, k, name):\n",
    "    pass"
   ]
  },
  {
   "cell_type": "markdown",
   "id": "10c9d363",
   "metadata": {},
   "source": [
    "## Examples"
   ]
  },
  {
   "cell_type": "markdown",
   "id": "84f2a2bd",
   "metadata": {},
   "source": []
  },
  {
   "cell_type": "markdown",
   "id": "458677a8",
   "metadata": {},
   "source": [
    "### Nurse scheduling problem"
   ]
  },
  {
   "cell_type": "code",
   "execution_count": null,
   "id": "2f21db8a",
   "metadata": {},
   "outputs": [],
   "source": [
    "instance1 = {\n",
    "    \"num_nurses\" : 4,\n",
    "    \"num_shifts\" : 3,\n",
    "    \"num_days\" : 3\n",
    "}\n",
    "\n",
    "instance2 = {\n",
    "    \"num_nurses\" : 4,\n",
    "    \"num_shifts\" : 3,\n",
    "    \"num_days\" : 4\n",
    "}\n",
    "\n",
    "instance3 = {\n",
    "    \"num_nurses\" : 10,\n",
    "    \"num_shifts\" : 3,\n",
    "    \"num_days\" : 30\n",
    "}"
   ]
  },
  {
   "cell_type": "code",
   "execution_count": null,
   "id": "b8251de1",
   "metadata": {},
   "outputs": [],
   "source": [
    "def nurse_scheduling_sat(num_nurses, num_shifts, num_days, timeout = None):\n",
    "    # Create all the variables, shifts[i, j, k] is True if shift k is assigned to nurse i on day j.\n",
    "    shifts = [[[Bool(f\"x_{i}_{j}_{k}\") for k in range(num_shifts)] for j in range(num_days)] for i in range(num_nurses)]\n",
    "\n",
    "    s = Solver()\n",
    "    if timeout:\n",
    "        s.set(\"timeout\", timeout)\n",
    "    \n",
    "    # In each shift can work just one nurse \n",
    "    for j in range(num_days):\n",
    "        for k in range(num_shifts):\n",
    "            s.add(exactly_one([shifts[i][j][k] for i in range(num_nurses)],  f\"one_nurse_{j}_{k}\"))\n",
    "    \n",
    "    # Each nurse can work one shift per day\n",
    "    for i in range(num_nurses):   \n",
    "        for j in range(num_days):\n",
    "            s.add(at_most_one(shifts[i][j], f\"one_shift_{i}_{j}\"))\n",
    "            \n",
    "    # Fair assignment of shifts\n",
    "    min_shifts_per_nurse = (num_shifts * num_days) // num_nurses\n",
    "    if num_shifts * num_days % num_nurses == 0:\n",
    "        max_shifts_per_nurse = min_shifts_per_nurse\n",
    "    else:\n",
    "        max_shifts_per_nurse = min_shifts_per_nurse + 1\n",
    "    for i in range(num_nurses):\n",
    "        shifts_worked = []\n",
    "        for j in range(num_days):\n",
    "            for k in range(num_shifts):\n",
    "                shifts_worked.append(shifts[i][j][k])\n",
    "        s.add(at_least_k(shifts_worked, min_shifts_per_nurse, f\"shifts_worked_min_{i}\"))\n",
    "        s.add(at_most_k(shifts_worked, max_shifts_per_nurse, f\"shifts_worked_max_{i}\"))\n",
    "    \n",
    "    s.check()\n",
    "    \n",
    "    if s.check() == sat:\n",
    "        m = s.model()\n",
    "        return [(i, j, k) for i in range(num_nurses) for j in range(num_days) for k in range(num_shifts) if m.evaluate(shifts[i][j][k])]\n",
    "    else:\n",
    "        return \"Unsat\"     "
   ]
  },
  {
   "cell_type": "code",
   "execution_count": null,
   "id": "8d649357",
   "metadata": {},
   "outputs": [],
   "source": [
    "exactly_one = exactly_one_seq\n",
    "at_most_one = at_most_one_seq"
   ]
  },
  {
   "cell_type": "markdown",
   "id": "1d79ceed",
   "metadata": {},
   "source": [
    "### Instance 1"
   ]
  },
  {
   "cell_type": "code",
   "execution_count": null,
   "id": "67dd8b76",
   "metadata": {},
   "outputs": [],
   "source": [
    "instance = instance1"
   ]
  },
  {
   "cell_type": "code",
   "execution_count": null,
   "id": "ca104948",
   "metadata": {},
   "outputs": [],
   "source": [
    "%%time\n",
    "at_most_k = at_most_k_np\n",
    "at_least_k = at_least_k_np\n",
    "exactly_k = exactly_k_np\n",
    "display_nurses_shifts(nurse_scheduling_sat(instance[\"num_nurses\"], instance[\"num_shifts\"], instance[\"num_days\"]), instance[\"num_nurses\"], instance[\"num_shifts\"], instance[\"num_days\"])"
   ]
  },
  {
   "cell_type": "code",
   "execution_count": null,
   "id": "d804e823",
   "metadata": {},
   "outputs": [],
   "source": [
    "%%time\n",
    "at_most_k = at_most_k_seq\n",
    "at_least_k = at_least_k_seq\n",
    "exactly_k = exactly_k_seq\n",
    "display_nurses_shifts(nurse_scheduling_sat(instance[\"num_nurses\"], instance[\"num_shifts\"], instance[\"num_days\"]), instance[\"num_nurses\"], instance[\"num_shifts\"], instance[\"num_days\"])"
   ]
  },
  {
   "cell_type": "markdown",
   "id": "3fa59a7d",
   "metadata": {},
   "source": [
    "### Instance 2"
   ]
  },
  {
   "cell_type": "code",
   "execution_count": null,
   "id": "1fafbad4",
   "metadata": {},
   "outputs": [],
   "source": [
    "instance = instance2"
   ]
  },
  {
   "cell_type": "code",
   "execution_count": null,
   "id": "8c3a435a",
   "metadata": {},
   "outputs": [],
   "source": [
    "%%time\n",
    "at_most_k = at_most_k_np\n",
    "at_least_k = at_least_k_np\n",
    "exactly_k = exactly_k_np\n",
    "display_nurses_shifts(nurse_scheduling_sat(instance[\"num_nurses\"], instance[\"num_shifts\"], instance[\"num_days\"]), instance[\"num_nurses\"], instance[\"num_shifts\"], instance[\"num_days\"])"
   ]
  },
  {
   "cell_type": "code",
   "execution_count": null,
   "id": "f812d7d5",
   "metadata": {},
   "outputs": [],
   "source": [
    "%%time\n",
    "at_most_k = at_most_k_seq\n",
    "at_least_k = at_least_k_seq\n",
    "exactly_k = exactly_k_seq\n",
    "display_nurses_shifts(nurse_scheduling_sat(instance[\"num_nurses\"], instance[\"num_shifts\"], instance[\"num_days\"]), instance[\"num_nurses\"], instance[\"num_shifts\"], instance[\"num_days\"])"
   ]
  },
  {
   "cell_type": "markdown",
   "id": "48d6268e",
   "metadata": {},
   "source": [
    "### Instance 3"
   ]
  },
  {
   "cell_type": "code",
   "execution_count": null,
   "id": "1fd28820",
   "metadata": {},
   "outputs": [],
   "source": [
    "instance = instance3"
   ]
  },
  {
   "cell_type": "code",
   "execution_count": null,
   "id": "c5b93ba9",
   "metadata": {},
   "outputs": [],
   "source": [
    "%%time\n",
    "at_most_k = at_most_k_np\n",
    "at_least_k = at_least_k_np\n",
    "exactly_k = exactly_k_np\n",
    "display_nurses_shifts(nurse_scheduling_sat(instance[\"num_nurses\"], instance[\"num_shifts\"], instance[\"num_days\"], timeout = 1000*60*3), instance[\"num_nurses\"], instance[\"num_shifts\"], instance[\"num_days\"])"
   ]
  },
  {
   "cell_type": "code",
   "execution_count": null,
   "id": "5d478a54",
   "metadata": {},
   "outputs": [],
   "source": [
    "%%time\n",
    "at_most_k = at_most_k_seq\n",
    "at_least_k = at_least_k_seq\n",
    "exactly_k = exactly_k_seq\n",
    "display_nurses_shifts(nurse_scheduling_sat(instance[\"num_nurses\"], instance[\"num_shifts\"], instance[\"num_days\"], timeout = 1000*60*3), instance[\"num_nurses\"], instance[\"num_shifts\"], instance[\"num_days\"])"
   ]
  }
 ],
 "metadata": {
  "kernelspec": {
   "display_name": "Python 3",
   "language": "python",
   "name": "python3"
  },
  "language_info": {
   "codemirror_mode": {
    "name": "ipython",
    "version": 3
   },
   "file_extension": ".py",
   "mimetype": "text/x-python",
   "name": "python",
   "nbconvert_exporter": "python",
   "pygments_lexer": "ipython3",
   "version": "3.8.8"
  }
 },
 "nbformat": 4,
 "nbformat_minor": 5
}
